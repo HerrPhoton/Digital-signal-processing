{
 "cells": [
  {
   "cell_type": "markdown",
   "metadata": {},
   "source": [
    "# Лабораторная работа №1"
   ]
  },
  {
   "cell_type": "code",
   "execution_count": 25,
   "metadata": {},
   "outputs": [],
   "source": [
    "import matplotlib.pyplot as plt\n",
    "from scipy import integrate\n",
    "import numpy as np"
   ]
  },
  {
   "cell_type": "code",
   "execution_count": 26,
   "metadata": {},
   "outputs": [],
   "source": [
    "A  = 2\n",
    "T0 = -4\n",
    "T1 = 4\n",
    "SAMPLE_RATE = 1000\n",
    "N  = 10"
   ]
  },
  {
   "cell_type": "code",
   "execution_count": 27,
   "metadata": {},
   "outputs": [],
   "source": [
    "def rect_func(x: float, A: float):\n",
    "    return A * np.sign(np.sin(np.pi * x))"
   ]
  },
  {
   "cell_type": "code",
   "execution_count": 28,
   "metadata": {},
   "outputs": [],
   "source": [
    "def func_x(A: float, t0: float, t1: float, sample_rate: int):\n",
    "\n",
    "    x = np.linspace(t0, t1, num = sample_rate, endpoint = False)\n",
    "    y = np.apply_along_axis(lambda val: rect_func(val, A), 0, x)\n",
    "\n",
    "    return x, y"
   ]
  },
  {
   "cell_type": "code",
   "execution_count": 29,
   "metadata": {},
   "outputs": [],
   "source": [
    "def approx_func_x(N: int, T: float, x: float, y: float):\n",
    "    \n",
    "    w  = 2 * np.pi / T\n",
    "    a0 = 2 / T * integrate.quad(lambda val: rect_func(val, A), 0, T)\n",
    "    an = lambda n: 2 / T * integrate.quad(lambda val: rect_func(val, A) * np.cos(n * w * x), 0, T)\n",
    "    bn = lambda n: 2 / T * integrate.quad(lambda val: rect_func(val, A) * np.sin(n * w * x), 0, T)\n",
    "\n",
    "    sum = a0 / 2\n",
    "\n",
    "    for t in x:\n",
    "        for i in range(1, N):\n",
    "            sum += an(i) * np.cos(i * w * t) + bn(i) * np.sin(i * w * t)\n"
   ]
  },
  {
   "cell_type": "code",
   "execution_count": 30,
   "metadata": {},
   "outputs": [],
   "source": [
    "x0, y0 = func_x(A, T0, T1, SAMPLE_RATE)\n",
    "x1, y1 = approx_func_x(N, x0, y0)"
   ]
  },
  {
   "cell_type": "code",
   "execution_count": 31,
   "metadata": {},
   "outputs": [
    {
     "data": {
      "image/png": "[encoded data removed]",
      "text/plain": [
       "<Figure size 640x480 with 1 Axes>"
      ]
     },
     "metadata": {},
     "output_type": "display_data"
    }
   ],
   "source": [
    "plt.plot(x0, y0, color = 'b')\n",
    "plt.ylabel('Амплитуда')\n",
    "plt.xlabel('Время, с')\n",
    "plt.xticks(np.unique(np.int16(x0)))\n",
    "plt.yticks([-A, 0, A])\n",
    "plt.show()"
   ]
  }
 ],
 "metadata": {
  "kernelspec": {
   "display_name": "Python 3",
   "language": "python",
   "name": "python3"
  },
  "language_info": {
   "codemirror_mode": {
    "name": "ipython",
    "version": 3
   },
   "file_extension": ".py",
   "mimetype": "text/x-python",
   "name": "python",
   "nbconvert_exporter": "python",
   "pygments_lexer": "ipython3",
   "version": "3.9.13"
  },
  "orig_nbformat": 4
 },
 "nbformat": 4,
 "nbformat_minor": 2
}
